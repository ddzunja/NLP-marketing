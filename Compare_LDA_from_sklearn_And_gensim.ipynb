{
 "cells": [
  {
   "cell_type": "code",
   "execution_count": 1,
   "metadata": {},
   "outputs": [],
   "source": [
    "import pandas as pd\n",
    "import numpy as np\n",
    "from sklearn.decomposition import LatentDirichletAllocation\n",
    "from gensim.models.ldamulticore import LdaMulticore\n",
    "from gensim.models import LdaModel, CoherenceModel\n",
    "from gensim import corpora\n",
    "import os\n",
    "import re\n",
    "import string\n",
    "from bs4 import BeautifulSoup\n",
    "from tqdm import tqdm\n",
    "from time import time\n",
    "from collections import Counter\n",
    "from nltk.corpus import stopwords\n",
    "from nltk.tokenize import RegexpTokenizer\n",
    "from scipy.sparse import csr_matrix\n",
    "import matplotlib.pyplot as plt"
   ]
  },
  {
   "cell_type": "markdown",
   "metadata": {},
   "source": [
    "# Load Data"
   ]
  },
  {
   "cell_type": "code",
   "execution_count": 4,
   "metadata": {},
   "outputs": [
    {
     "name": "stdout",
     "output_type": "stream",
     "text": [
      "Loaded Comments: 231449\n"
     ]
    }
   ],
   "source": [
    "path = './nyt-comments'\n",
    "files_comments = [os.path.join(path, file) for file in os.listdir(path) if file.startswith('C')]\n",
    "comments = []\n",
    "for file in files_comments[:1]:\n",
    "    comments.extend(pd.read_csv(file, low_memory=False)['commentBody'].dropna().values)\n",
    "    \n",
    "print('Loaded Comments: {}'.format(len(comments)))"
   ]
  },
  {
   "cell_type": "code",
   "execution_count": 5,
   "metadata": {},
   "outputs": [
    {
     "name": "stderr",
     "output_type": "stream",
     "text": [
      "100%|██████████| 5000/5000 [00:01<00:00, 2602.39it/s]\n"
     ]
    },
    {
     "name": "stdout",
     "output_type": "stream",
     "text": [
      "Unique Words In Comments: 21455\n",
      "Documents/Comments: 5000\n",
      "Train Shape:\t(5000, 5118)\n"
     ]
    }
   ],
   "source": [
    "n = 5000    # Number of comments to use in the LDA\n",
    "re_punctuation = re.compile('['+string.punctuation+']')   # To remove punctuation\n",
    "tokenizer = RegexpTokenizer('\\w+')    # To tokenize the comments\n",
    "stop = stopwords.words('english')\n",
    "preprocessed_comments = []\n",
    "for comment in tqdm(np.random.choice(comments, n)):\n",
    "    comment = BeautifulSoup(comment, 'lxml').get_text().lower()    # Remove html\n",
    "    comment = re_punctuation.sub(' ', comment)                     # Remove punctuation\n",
    "    comment = tokenizer.tokenize(comment)                          # Tokenize comments\n",
    "    comment = [word for word in comment if word not in stop]       # Remove stopwords\n",
    "    preprocessed_comments.append(comment)\n",
    "    \n",
    "wordFrequency = Counter()\n",
    "for comment in preprocessed_comments:\n",
    "    wordFrequency.update(comment)                                  # Count overall word frequency\n",
    "print('Unique Words In Comments: {}'.format(len(wordFrequency)))\n",
    "\n",
    "minimumWordOccurrences = 5\n",
    "# Remove rare words\n",
    "texts = [[word for word in comment if wordFrequency[word] > minimumWordOccurrences] for comment in preprocessed_comments]\n",
    "dictionary = corpora.Dictionary(texts)                             # Create word dictionary\n",
    "vocabulary = [dictionary[i] for i in dictionary.keys()]\n",
    "print('Documents/Comments: {}'.format(len(texts)))\n",
    "\n",
    "corpus = [dictionary.doc2bow(doc) for doc in texts]                # Create corpus\n",
    "\n",
    "def makesparse(mycorpus, ncolumns):\n",
    "    data, row, col = [], [], []\n",
    "    for cc, doc in enumerate(mycorpus):\n",
    "        for word in doc:\n",
    "            row.append(cc)\n",
    "            col.append(word[0])\n",
    "            data.append(word[1])\n",
    "    X = csr_matrix((np.array(data), (np.array(row), np.array(col))), shape=(cc+1, ncolumns))\n",
    "    return X\n",
    "\n",
    "X = makesparse(corpus, len(dictionary))                            # sparse matrix\n",
    "print('Train Shape:\\t{}'.format(X.shape))"
   ]
  },
  {
   "cell_type": "code",
   "execution_count": 13,
   "metadata": {},
   "outputs": [],
   "source": [
    "numberTopics = 20"
   ]
  },
  {
   "cell_type": "code",
   "execution_count": 7,
   "metadata": {},
   "outputs": [
    {
     "name": "stderr",
     "output_type": "stream",
     "text": [
      "100%|██████████| 100/100 [36:38<00:00, 22.03s/it]"
     ]
    },
    {
     "name": "stdout",
     "output_type": "stream",
     "text": [
      "Topic 1: going taxes made low name laws said 5 elected large\n",
      "Topic 2: people would many like us get way know need go\n",
      "Topic 3: see us trump america world russia class end mexico sense\n",
      "Topic 4: 1 court justice non 2 constitution supreme result lose question\n",
      "Topic 5: states vote nation power united bannon words state well history\n",
      "Topic 6: election job next wonder 10 almost long national fair hear\n",
      "Topic 7: law past may congress fight 4 senate issues least looks\n",
      "Topic 8: news times article intelligence report likely would com current party\n",
      "Topic 9: democratic actions state rich thinking paid clear citizens answer policy\n",
      "Topic 10: trump president obama mr donald first office going man lies\n",
      "Topic 11: trump american putin government people country lot must think last\n",
      "Topic 12: years time get clinton new year like white never put\n",
      "Topic 13: home free 3 number ask speak head market ways usa\n",
      "Topic 14: better would made course perhaps middle line based supporters fox\n",
      "Topic 15: public let truth nyt facts first black act possible please\n",
      "Topic 16: media party right point long trump rights show matter political\n",
      "Topic 17: really women like another administration cannot order march poor leave\n",
      "Topic 18: one something everyone got say day either worse everything took\n",
      "Topic 19: want republicans democrats gop voted look thank healthcare million republican\n",
      "Topic 20: care health insurance less aca today without given cost tax\n"
     ]
    },
    {
     "name": "stderr",
     "output_type": "stream",
     "text": [
      "\n"
     ]
    }
   ],
   "source": [
    "model_sklearn = LatentDirichletAllocation(n_components=numberTopics, \n",
    "                                          learning_method='online',\n",
    "                                          n_jobs=16,\n",
    "                                          max_iter = 1,\n",
    "                                          total_samples = 10000,\n",
    "                                          batch_size = 20)\n",
    "\n",
    "perplexity_sklearn = []\n",
    "timestamps_sklearn = []\n",
    "start = time()\n",
    "for _ in tqdm(range(100)):\n",
    "    model_sklearn.partial_fit(X)\n",
    "    perp_sklearn.append(model_sklearn.perplexity(X))        # Append metric\n",
    "    times_sklearn.append(time()-start)\n",
    "\n",
    "for i, topic in enumerate(model_sklearn.components_.argsort(axis=1)[:, -10:][:, ::-1], 1):\n",
    "    print('Topic {}: {}'.format(i, ' '.join([vocabulary[id] for id in topic])))"
   ]
  },
  {
   "cell_type": "code",
   "execution_count": 8,
   "metadata": {},
   "outputs": [
    {
     "name": "stderr",
     "output_type": "stream",
     "text": [
      "  5%|▌         | 5/100 [00:17<05:39,  3.58s/it]/anaconda3/envs/ML/lib/python3.6/site-packages/gensim/models/ldamodel.py:775: RuntimeWarning: divide by zero encountered in log\n",
      "  diff = np.log(self.expElogbeta)\n",
      "100%|██████████| 100/100 [07:06<00:00,  4.20s/it]"
     ]
    },
    {
     "name": "stdout",
     "output_type": "stream",
     "text": [
      "Topic 1: state article point change rights given court important rather words\n",
      "Topic 2: states power vote fact nation free job place democracy voters\n",
      "Topic 3: people like get know think need new also times public\n",
      "Topic 4: look far anything actually else understand working countries citizens including\n",
      "Topic 5: women men though lost rest march social came woman non\n",
      "Topic 6: make want every money said pay maybe making 2 start\n",
      "Topic 7: business high put children class end try wonder line game\n",
      "Topic 8: may democrats less problem law democratic 1 majority politics actions\n",
      "Topic 9: us country time world america republicans americans back take party\n",
      "Topic 10: find everyone needs future foreign case agree home issues 3\n",
      "Topic 11: congress give lot nyt run human face dangerous cabinet win\n",
      "Topic 12: government election long gop away matter clear elect leader justice\n",
      "Topic 13: care health say without insurance system aca call healthcare millions\n",
      "Topic 14: american going day little got bad press means whole talk\n",
      "Topic 15: would one even years obama much way could good well\n",
      "Topic 16: trump president mr donald putin tax clinton russia read hillary\n",
      "Topic 17: many see work others jobs yes already use live love\n",
      "Topic 18: news media must house big true part elected report possible\n",
      "Topic 19: right done left plan wrong idea god fight wing simple\n",
      "Topic 20: nothing around truth stop lies facts reason perhaps tell wants\n"
     ]
    },
    {
     "name": "stderr",
     "output_type": "stream",
     "text": [
      "\n"
     ]
    }
   ],
   "source": [
    "model_gensim = LdaModel(num_topics=numberTopics,\n",
    "                        id2word=dictionary,\n",
    "                        iterations=10,\n",
    "                        passes=1,\n",
    "                        chunksize=50,\n",
    "                        alpha='auto',\n",
    "                        eta='auto',\n",
    "                        update_every=1)\n",
    "\n",
    "\n",
    "perp_gensim = []\n",
    "times_gensim = []\n",
    "start = time()\n",
    "for _ in tqdm(range(100)):\n",
    "    model_gensim.update(corpus)\n",
    "    perp_gensim.append(np.exp(-1 * model_gensim.log_perplexity(corpus)))\n",
    "    times_gensim.append(time() - start)\n",
    "    \n",
    "for i, topic in enumerate(model_gensim.get_topics().argsort(axis=1)[:, -10:][:, ::-1], 1):\n",
    "    print('Topic {}: {}'.format(i, ' '.join([vocabulary[id] for id in topic])))"
   ]
  },
  {
   "cell_type": "code",
   "execution_count": 9,
   "metadata": {},
   "outputs": [
    {
     "data": {
      "image/png": "[encoded data removed]",
      "text/plain": [
       "<Figure size 1080x576 with 1 Axes>"
      ]
     },
     "metadata": {
      "needs_background": "light"
     },
     "output_type": "display_data"
    }
   ],
   "source": [
    "plt.figure(figsize=(15,8))\n",
    "plt.plot(timestamps_sklearn, perp_sklearn, '-o', label='sklearn', c='g')\n",
    "plt.plot(timestamps_gensim, perp_gensim, '-o', label='gensim', c='b')\n",
    "plt.title('Perplexity sklearn & gensim')\n",
    "plt.xlabel('Duration [s]')\n",
    "plt.ylabel('Perplexity')\n",
    "plt.legend()\n",
    "plt.show()"
   ]
  }
 ],
 "metadata": {
  "kernelspec": {
   "display_name": "Python 3",
   "language": "python",
   "name": "python3"
  },
  "language_info": {
   "codemirror_mode": {
    "name": "ipython",
    "version": 3
   },
   "file_extension": ".py",
   "mimetype": "text/x-python",
   "name": "python",
   "nbconvert_exporter": "python",
   "pygments_lexer": "ipython3",
   "version": "3.7.2"
  }
 },
 "nbformat": 4,
 "nbformat_minor": 2
}
