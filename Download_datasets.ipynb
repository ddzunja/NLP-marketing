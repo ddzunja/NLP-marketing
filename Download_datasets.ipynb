{
 "cells": [
  {
   "cell_type": "code",
   "execution_count": 1,
   "metadata": {},
   "outputs": [
    {
     "name": "stdout",
     "output_type": "stream",
     "text": [
      "Collecting package metadata: done\n",
      "Solving environment: - ^C\n",
      "failed\n",
      "\n",
      "CondaError: KeyboardInterrupt\n",
      "\n"
     ]
    }
   ],
   "source": [
    "### Install python wget\n",
    "\n",
    "!conda install -c conda-forge python-wget"
   ]
  },
  {
   "cell_type": "code",
   "execution_count": null,
   "metadata": {},
   "outputs": [],
   "source": [
    "# 'Amazon_Instant_Video', \n",
    "# 'Apps_for_Android', \n",
    "# 'Automotive', \n",
    "# 'Baby', \n",
    "# 'Beauty', \n",
    "# 'Digital_Music', \n",
    "# 'Grocery_and_Gourmet_Food', \n",
    "# 'Health_and_Personal_Care', \n",
    "# 'Home_and_Kitchen', \n",
    "# 'Kindle_Store'\n",
    "\n",
    "#DOWLOAD DATASETS\n",
    "\n",
    "!python Download_files.py amvi apps auto baby beau dgmu food heal hmkt kind  -dt r m"
   ]
  },
  {
   "cell_type": "code",
   "execution_count": 3,
   "metadata": {},
   "outputs": [
    {
     "name": "stdout",
     "output_type": "stream",
     "text": [
      "usage: Download_files.py [-h] [-f [name [name ...]]]\r\n",
      "                         [-dt [dataset_type [dataset_type ...]]] [-l location]\r\n",
      "\r\n",
      "Process download files\r\n",
      "\r\n",
      "optional arguments:\r\n",
      "  -h, --help            show this help message and exit\r\n",
      "  -f [name [name ...]], --file [name [name ...]]\r\n",
      "                        \r\n",
      "                        \tYou need to specify required files to download\r\n",
      "                        \r\n",
      "                        \tdefault value is ['all'] to download all datasets\r\n",
      "                        \r\n",
      "                        \t'book' : for «Books»                       datasets\r\n",
      "                        \t'elec' : for «Electronics»                 datasets\r\n",
      "                        \t'mvtv' : for «Movies and TV»               datasets\r\n",
      "                        \t'cdvi' : for «CDs and Vinyl»               datasets\r\n",
      "                        \t'clsh' : for «Clothing, Shoes and Jewelry» datasets\r\n",
      "                        \t'hmkt' : for «Home and Kitchen»            datasets\r\n",
      "                        \t'kind' : for «Kindle Store»                datasets\r\n",
      "                        \t'sprt' : for «Sports and Outdoors»         datasets\r\n",
      "                        \t'cell' : for «Cell Phones and Accessories» datasets\r\n",
      "                        \t'heal' : for «Health and Personal Care»    datasets\r\n",
      "                        \t'toys' : for «Toys and Games»              datasets\r\n",
      "                        \t'vidg' : for «Video Games»                 datasets\r\n",
      "                        \t'tool' : for «Tools and Home Improvement»  datasets\r\n",
      "                        \t'beau' : for «Beauty»                      datasets\r\n",
      "                        \t'apps' : for «Apps for Android»            datasets\r\n",
      "                        \t'offc' : for «Office Products»             datasets\r\n",
      "                        \t'pets' : for «Pet Supplies»                datasets\r\n",
      "                        \t'auto' : for «Automotive»                  datasets\r\n",
      "                        \t'food' : for «Grocery and Gourmet Food»    datasets\r\n",
      "                        \t'grdn' : for «Patio, Lawn and Garden»      datasets\r\n",
      "                        \t'baby' : for «Baby»                        datasets\r\n",
      "                        \t'dgmu' : for «Digital Music»               datasets\r\n",
      "                        \t'muin' : for «Musical Instruments»         datasets\r\n",
      "                        \t'amvi' : for «Amazon Instant Video»        datasets\r\n",
      "                        \r\n",
      "                        \tyou can specify multiple choices for download \r\n",
      "                        \t(e.g. '-f book elec pets apps')\r\n",
      "                        \t\r\n",
      "  -dt [dataset_type [dataset_type ...]], --dataset-type [dataset_type [dataset_type ...]]\r\n",
      "                        \r\n",
      "                        \tThe default value is ['all']\r\n",
      "                        \r\n",
      "                        \t'r' : for donwload review datasets\r\n",
      "                        \t'm' : for download metadata datasets\r\n",
      "                        \t'i' : for download image features\r\n",
      "                        \r\n",
      "                        \tMutiple choice is available for this arg again \r\n",
      "                        \t(e.g. '-dt r i')\r\n",
      "                        \t\r\n",
      "  -l location, --loc location\r\n",
      "                        \r\n",
      "                        \tSpecify the location of saved folder.\r\n",
      "                        \tBy default it will store data in the root location of running code.\r\n",
      "                        \tdefault : '/home/ubuntu/Notebooks'\r\n",
      "                        \t\r\n"
     ]
    }
   ],
   "source": [
    "!python Download_files.py -h"
   ]
  }
 ],
 "metadata": {
  "kernelspec": {
   "display_name": "Python 3",
   "language": "python",
   "name": "python3"
  },
  "language_info": {
   "codemirror_mode": {
    "name": "ipython",
    "version": 3
   },
   "file_extension": ".py",
   "mimetype": "text/x-python",
   "name": "python",
   "nbconvert_exporter": "python",
   "pygments_lexer": "ipython3",
   "version": "3.7.2"
  }
 },
 "nbformat": 4,
 "nbformat_minor": 2
}
