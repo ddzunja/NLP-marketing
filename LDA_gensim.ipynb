{
 "cells": [
  {
   "cell_type": "markdown",
   "metadata": {},
   "source": [
    "#### 0. Code we used to download dataset.\n",
    "\n",
    "No need to run this since, models are already saved :)"
   ]
  },
  {
   "cell_type": "code",
   "execution_count": null,
   "metadata": {},
   "outputs": [],
   "source": [
    "# 'Amazon_Instant_Video', \n",
    "# 'Apps_for_Android', \n",
    "# 'Automotive', \n",
    "# 'Baby', \n",
    "# 'Beauty', \n",
    "# 'Digital_Music', \n",
    "# 'Grocery_and_Gourmet_Food', \n",
    "# 'Health_and_Personal_Care', \n",
    "# 'Home_and_Kitchen', \n",
    "# 'Kindle_Store'\n",
    "\n",
    "#DOWLOAD DATASETS\n",
    "\n",
    "## UNCOMMENT to test :)\n",
    "#!python Download_files.py -f amvi apps auto baby beau dgmu food heal hmkt kind  -dt r"
   ]
  },
  {
   "cell_type": "markdown",
   "metadata": {},
   "source": [
    "### 1. Import all packages"
   ]
  },
  {
   "cell_type": "code",
   "execution_count": 5,
   "metadata": {},
   "outputs": [
    {
     "name": "stderr",
     "output_type": "stream",
     "text": [
      "[nltk_data] Downloading package stopwords to\n",
      "[nltk_data]     /Users/mohammadalisadri/nltk_data...\n",
      "[nltk_data]   Package stopwords is already up-to-date!\n"
     ]
    }
   ],
   "source": [
    "from gensim.test.utils import common_texts,datapath\n",
    "from gensim.corpora.dictionary import Dictionary\n",
    "from gensim.models.ldamulticore import LdaMulticore\n",
    "from gensim.models import LdaModel\n",
    "from gensim import corpora \n",
    "from gensim.matutils import Sparse2Corpus, Scipy2Corpus\n",
    "import pandas as pd\n",
    "import numpy as np\n",
    "import gzip\n",
    "import re\n",
    "import string\n",
    "import os\n",
    "from tqdm import tqdm_notebook\n",
    "from time import time\n",
    "from hunspell import HunSpell # Installing this caused a lot of hassle\n",
    "from multiprocessing import pool\n",
    "from nltk.tokenize import RegexpTokenizer\n",
    "from nltk.corpus import stopwords\n",
    "from collections import Counter\n",
    "from gensim.parsing.porter import PorterStemmer\n",
    "import pickle\n",
    "import nltk\n",
    "from joblib import Parallel, delayed\n",
    "from gensim.corpora import MmCorpus\n",
    "from gensim.models import TfidfModel\n",
    "from sklearn.feature_extraction.text import TfidfTransformer\n",
    "from itertools import chain\n",
    "from scipy.sparse import coo_matrix\n",
    "import matplotlib.pyplot as plt\n",
    "import seaborn as sns\n",
    "sns.set()\n",
    "\n",
    "\n",
    "nltk.download('stopwords')\n",
    "\n",
    "spellchecker = HunSpell('dicts_hun/en_US.dic',\n",
    "                        'dicts_hun/en_US.aff')\n",
    "\n",
    "stemmer = PorterStemmer()\n",
    "\n",
    "names = ['Amazon_Instant_Video', \n",
    "         'Apps_for_Android', \n",
    "         'Automotive', \n",
    "         'Baby', \n",
    "         'Beauty', \n",
    "         'Digital_Music', \n",
    "         'Grocery_and_Gourmet_Food', \n",
    "         'Health_and_Personal_Care', \n",
    "         'Home_and_Kitchen', \n",
    "         'Kindle_Store'\n",
    "        ]\n",
    "\n",
    "def parse(path):\n",
    "  g = gzip.open(path, 'rb')\n",
    "  for l in g:\n",
    "    yield eval(l)\n",
    "\n",
    "def getDF(path):\n",
    "  i = 0\n",
    "  df = {}\n",
    "  for d in parse(path):\n",
    "    df[i] = d\n",
    "    i += 1\n",
    "  return pd.DataFrame.from_dict(df, orient='index')"
   ]
  },
  {
   "cell_type": "markdown",
   "metadata": {},
   "source": [
    "#### Word preprocessing! It doesn't take a lot of time, if files in `results` folder exists, preprocessing won't be run again and files will be loaded!\n",
    "\n",
    "1. Datasets are loaded (this is **SLOW**, but parallized! You can set number of cores with `paralelize_reading`. TAKES A LOT OF **RAM**)\n",
    "2. `n` comments are randomly chosen\n",
    "3. Remove punctionation and digits\n",
    "4. Remove STOP words 'he', 'she', 'is' etc.\n",
    "5. Remove wrongly spelled words (we thought of spelling them correctly, but it slows process 50x times!)\n",
    "6. Stemming! `stemmer.stem('ponies') -> 'poni`\n",
    "7. Remove rare words\n",
    "8. Create dictionary, vocabulary, corpus and SAVE THEM!"
   ]
  },
  {
   "cell_type": "code",
   "execution_count": 43,
   "metadata": {},
   "outputs": [
    {
     "data": {
      "application/vnd.jupyter.widget-view+json": {
       "model_id": "43c23b8c08a44de283dec9acf4fa8641",
       "version_major": 2,
       "version_minor": 0
      },
      "text/plain": [
       "HBox(children=(IntProgress(value=0, max=50000), HTML(value='')))"
      ]
     },
     "metadata": {},
     "output_type": "display_data"
    },
    {
     "data": {
      "application/vnd.jupyter.widget-view+json": {
       "model_id": "7b165439923945da822aa240a9deff85",
       "version_major": 2,
       "version_minor": 0
      },
      "text/plain": [
       "HBox(children=(IntProgress(value=0, max=50000), HTML(value='')))"
      ]
     },
     "metadata": {},
     "output_type": "display_data"
    },
    {
     "name": "stdout",
     "output_type": "stream",
     "text": [
      "Unique Words In Comments: 29177\n",
      "Removing rare words... \n"
     ]
    },
    {
     "data": {
      "application/vnd.jupyter.widget-view+json": {
       "model_id": "272ce348ba144a52aba7a9a48dcd9502",
       "version_major": 2,
       "version_minor": 0
      },
      "text/plain": [
       "HBox(children=(IntProgress(value=0, max=50000), HTML(value='')))"
      ]
     },
     "metadata": {},
     "output_type": "display_data"
    },
    {
     "name": "stdout",
     "output_type": "stream",
     "text": [
      "Creating vocabulary...\n"
     ]
    },
    {
     "data": {
      "application/vnd.jupyter.widget-view+json": {
       "model_id": "a9c18e8c5ee04d75801f31e8a486ae5c",
       "version_major": 2,
       "version_minor": 0
      },
      "text/plain": [
       "HBox(children=(IntProgress(value=0, max=19828), HTML(value='')))"
      ]
     },
     "metadata": {},
     "output_type": "display_data"
    },
    {
     "name": "stdout",
     "output_type": "stream",
     "text": [
      "Documents/Comments: 50000\n",
      "Creating corpus...\n"
     ]
    },
    {
     "data": {
      "application/vnd.jupyter.widget-view+json": {
       "model_id": "3906aa98cc2a43b4a61c0dc0a10e45bb",
       "version_major": 2,
       "version_minor": 0
      },
      "text/plain": [
       "HBox(children=(IntProgress(value=0, max=50000), HTML(value='')))"
      ]
     },
     "metadata": {},
     "output_type": "display_data"
    },
    {
     "name": "stdout",
     "output_type": "stream",
     "text": [
      "Saving files...\n",
      "WE ARE GOOD TO GO!\n"
     ]
    }
   ],
   "source": [
    "force_rerun_preprocessing = 0 ## If you want run code again even if files exist\n",
    "paralelize_reading = 12 ## Number of cores used for reading, set to 1 if you don't want to paralelize\n",
    "\n",
    "def read_dataset(name):\n",
    "    df = getDF('data/reviews/reviews_{}.json.gz'.format(name))\n",
    "    print('Reading {} finished!'.format(name))\n",
    "    return df.reviewText + ' ' + df.summary + ' '\n",
    "    \n",
    "\n",
    "if ((os.path.isfile('results/corpus.pickle') and \n",
    "    os.path.isfile('results/dictionary.pickle') and\n",
    "    os.path.isfile('results/vocab.pickle')) and not(force_rerun_preprocessing)):\n",
    "    \n",
    "    with open('results/corpus.pickle', 'rb') as f:\n",
    "        corpus = pickle.load(f)\n",
    "    with open('results/dictionary.pickle', 'rb') as f:\n",
    "        dictionary = pickle.load(f)\n",
    "    with open('results/vocab.pickle', 'rb') as f:\n",
    "        vocabulary = pickle.load(f)\n",
    "        \n",
    "    print('Files already exist! No need to load this again!')\n",
    "else:\n",
    "\n",
    "    ans = ''\n",
    "\n",
    "#     for name in tqdm_notebook(names):\n",
    "\n",
    "#         df = getDF('data/reviews/reviews_{}.json.gz'.format(name))\n",
    "#         ans += df.reviewText + ' ' + df.summary + ' '\n",
    "\n",
    "    ## Let's use those cores :p\n",
    "    print('Reading datasets')\n",
    "    array_ans = Parallel(n_jobs=paralelize_reading)(delayed(read_dataset)(name) for name in names)\n",
    "    \n",
    "    for temp in array_ans:\n",
    "        ans+=temp\n",
    "\n",
    "    n = 50000\n",
    "\n",
    "    re_punctuation = re.compile('['+string.punctuation+']')\n",
    "    tokenizer = RegexpTokenizer('\\w+')\n",
    "    stop = stopwords.words('english')\n",
    "    preprocessed_comments = []\n",
    "    for comment in tqdm_notebook(np.random.choice(ans, n)):\n",
    "        comment = re_punctuation.sub(' ', comment)\n",
    "        comment = tokenizer.tokenize(comment)\n",
    "        comment = [x for x in comment if not any(c.isdigit() for c in x)]\n",
    "        comment = [word for word in comment if word not in stop]\n",
    "        comment = [stemmer.stem(x) for x in comment if spellchecker.spell(x)]\n",
    "        comment = [x for x in comment if len(x) > 3]\n",
    "        preprocessed_comments.append(comment)\n",
    "    \n",
    "    \n",
    "    wordFrequency = Counter()\n",
    "    for comment in tqdm_notebook(preprocessed_comments):\n",
    "        wordFrequency.update(comment)                                  # Count overall word frequency\n",
    "    print('Unique Words In Comments: {}'.format(len(wordFrequency)))\n",
    "\n",
    "    minimumWordOccurrences = 5\n",
    "    # Remove rare words\n",
    "    print('Removing rare words... ')\n",
    "    texts = [[word for word in comment if wordFrequency[word] > minimumWordOccurrences] for comment in tqdm_notebook(preprocessed_comments)]\n",
    "\n",
    "    print('Creating vocabulary...')\n",
    "    dictionary = corpora.Dictionary(texts)                             # Create word dictionary\n",
    "    vocabulary = [dictionary[i] for i in tqdm_notebook(dictionary.keys())]\n",
    "    print('Documents/Comments: {}'.format(len(texts)))\n",
    "\n",
    "    print('Creating corpus...')\n",
    "    corpus = [dictionary.doc2bow(doc) for doc in tqdm_notebook(preprocessed_comments)] # Create corpus\n",
    "\n",
    "    \n",
    "    print('Saving files...')\n",
    "    with open('results/corpus.pickle', 'wb') as f:\n",
    "        pickle.dump(corpus, f)\n",
    "    with open('results/dictionary.pickle', 'wb') as f:\n",
    "        pickle.dump(dictionary, f)\n",
    "    with open('results/vocab.pickle', 'wb') as f:\n",
    "        pickle.dump(vocabulary, f)\n",
    "    \n",
    "    print('WE ARE GOOD TO GO!')"
   ]
  },
  {
   "cell_type": "markdown",
   "metadata": {},
   "source": [
    "#### Training is computationaly heavy and can take up to 5 hours, this has been processed on AWS EC2 cluster.\n",
    "Note: If models exist in `results` folder, training won't run again and already existing model will be loaded.\n",
    "You can freely run this cell."
   ]
  },
  {
   "cell_type": "code",
   "execution_count": 20,
   "metadata": {},
   "outputs": [
    {
     "name": "stdout",
     "output_type": "stream",
     "text": [
      "Topic 1: game love plai great like time gift well good christma\n",
      "Topic 2: cream chees honei make snack freez freezer fridg food love\n",
      "Topic 3: diaper cloth wipe wash towel pocket like great size chang\n",
      "Topic 4: instal engin part mile replac truck bolt vehicl scale work\n",
      "Topic 5: kindl fire version mirror great edit work like good page\n",
      "Topic 6: filter crib sheet mattress great good like chang would bumper\n",
      "Topic 7: night sleep back pillow time great like babi help love\n",
      "Topic 8: plastic dryer metal piec tool made design blow part rubber\n",
      "Topic 9: open door gate instal screw mount hole wall lock easi\n",
      "Topic 10: film movi mani peopl histori make inform also would american\n",
      "Topic 11: sauc spice salt pepper wine oliv spici garlic flavor tomato\n",
      "Topic 12: cover video look tape like well hitch trailer jeep protect\n",
      "Topic 13: hair product like shampoo great iron work look good love\n",
      "Topic 14: bread bake recip cooki make cake pasta gluten free machin\n",
      "Topic 15: teeth brush chew mouth head toothbrush tooth oral floss dentist\n",
      "Topic 16: clean water floor vacuum cleaner carpet great time hose work\n",
      "Topic 17: stroller wheel fold holder travel great basket would like bike\n",
      "Topic 18: album song track like sound good lyric band best great\n",
      "Topic 19: cook rice heat butter grill meat food great chicken like\n",
      "Topic 20: phone work updat bowl devic time button tablet mixer program\n",
      "Topic 21: stori book charact read author seri like well great plot\n",
      "Topic 22: like sound bear peopl thing even know someth think seem\n",
      "Topic 23: wire seed salad zombi cracker plant dress cabl walker fish\n",
      "Topic 24: season show episod polit michael crime murder good time polic\n",
      "Topic 25: sound nois swing loud babi motor mobil like speed quiet\n",
      "Topic 26: seat strap belt back great adjust like side child easi\n",
      "Topic 27: tire read pressur accur bibl measur test easi time gaug\n",
      "Topic 28: babi chair tabl trai carrier high easi like soup back\n",
      "Topic 29: blade train potti brake rain toilet blender food wiper great\n",
      "Topic 30: bottl pump brush leak work milk time great water nippl\n",
      "Topic 31: chocol tast like good powder milk protein product great vitamin\n",
      "Topic 32: like love make want know even time woman romanc relationship\n",
      "Topic 33: shave razor popcorn shaver waffl time trim trimmer clean roller\n",
      "Topic 34: product amazon order ship would item purchas receiv time return\n",
      "Topic 35: record year live perform soul releas collect well origin blue\n",
      "Topic 36: life world human live find stori famili love peopl take\n",
      "Topic 37: flavor sugar tast like drink juic fruit sweet great appl\n",
      "Topic 38: good like love realli would movi great work littl word\n",
      "Topic 39: color light look white dark blue bright like black pink\n",
      "Topic 40: unit monitor work time timer turn volum alarm camera sound\n",
      "Topic 41: knife steel sharp hand stainless knive handl glove good like\n",
      "Topic 42: quot guitar music jazz piano like work drum sound great\n",
      "Topic 43: skin product face great moistur like soap feel lotion work\n",
      "Topic 44: take product help work pain effect time pill start year\n",
      "Topic 45: nail coat paint chip polish pilot product bosch scratch look\n",
      "Topic 46: great good song love product work easi price nice show\n",
      "Topic 47: love music great listen show like time season recommend work\n",
      "Topic 48: smell scent like fragranc perfum warm great heat good wear\n",
      "Topic 49: batteri charg plug power work great cord charger time good\n",
      "Topic 50: coffe maker make good like great brew grind bean machin\n"
     ]
    }
   ],
   "source": [
    "force_rerun_lda = 0\n",
    "\n",
    "if (os.path.isfile('results/model_gensim/model_gensim.model') & (not force_rerun_lda)):\n",
    "    model_genism = LdaMulticore.load(\"results/model_gensim/model_gensim.model\", mmap='r')\n",
    "    with open('results/model_gensim/perp_gensim.pickle', 'rb') as f:\n",
    "        perp_gensim = pickle.load(f)\n",
    "    with open('results/model_gensim/time_gensim.pickle', 'rb') as f:\n",
    "        time_gensim = pickle.load(f)\n",
    "else:\n",
    "    numberTopics = 50  #Number of topics\n",
    "    model_gensim = LdaMulticore(num_topics=numberTopics,\n",
    "                            id2word=dictionary,\n",
    "                            iterations=10,\n",
    "                            passes=1,\n",
    "                            chunksize=50,\n",
    "                            eta='auto',\n",
    "                            workers=12)\n",
    "\n",
    "    \n",
    "    perp_gensim = []\n",
    "    times_gensim = []\n",
    "    i=0\n",
    "    max_it = 5\n",
    "    min_prep = np.inf\n",
    "    start = time()\n",
    "    for _ in tqdm_notebook(range(100)):\n",
    "        model_gensim.update(corpus)\n",
    "        tmp = np.exp(-1 * model_gensim.log_perplexity(corpus))\n",
    "        perp_gensim.append(tmp)\n",
    "        times_gensim.append(time() - start)\n",
    "        if(tmp<min_prep):\n",
    "            min_prep = tmp;\n",
    "            i = 0\n",
    "        else:\n",
    "            i = i + 1;\n",
    "            if (i==max_it):\n",
    "                break                # if prep increase for max_it number it will break the update procedure \n",
    "    model_gensim.save('results/model_genism/model_gensim.model')\n",
    "    with open('results/model_gensim/perp_gensim.pickle', 'wb') as f:\n",
    "        pickle.dump(perp_gensim, f)\n",
    "    with open('results/model_gensim/time_gensim.pickle', 'wb') as f:\n",
    "        pickle.dump(times_gensim, f)\n",
    "    \n",
    "for i, topic in enumerate(model_gensim.get_topics().argsort(axis=1)[:, -10:][:, ::-1], 1):\n",
    "    print('Topic {}: {}'.format(i, ' '.join([vocabulary[id] for id in topic])))"
   ]
  },
  {
   "cell_type": "code",
   "execution_count": 23,
   "metadata": {},
   "outputs": [
    {
     "data": {
      "text/plain": [
       "[<matplotlib.lines.Line2D at 0x1a82d96d68>]"
      ]
     },
     "execution_count": 23,
     "metadata": {},
     "output_type": "execute_result"
    },
    {
     "data": {
      "image/png": "[encoded data removed]",
      "text/plain": [
       "<Figure size 1080x360 with 1 Axes>"
      ]
     },
     "metadata": {},
     "output_type": "display_data"
    }
   ],
   "source": [
    "plt.figure(figsize=[15,5])\n",
    "plt.plot(perp_gensim,'-o')"
   ]
  }
 ],
 "metadata": {
  "kernelspec": {
   "display_name": "Python 3",
   "language": "python",
   "name": "python3"
  },
  "language_info": {
   "codemirror_mode": {
    "name": "ipython",
    "version": 3
   },
   "file_extension": ".py",
   "mimetype": "text/x-python",
   "name": "python",
   "nbconvert_exporter": "python",
   "pygments_lexer": "ipython3",
   "version": "3.7.2"
  }
 },
 "nbformat": 4,
 "nbformat_minor": 2
}
